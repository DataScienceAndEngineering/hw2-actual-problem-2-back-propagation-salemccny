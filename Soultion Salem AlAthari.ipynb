# ### Exercise 1 ([link](http://neuralnetworksanddeeplearning.com/chap2.html#exercise_392831)): prove equations BP3 and BP4
# 
# * **BP3**: $\frac{\partial C}{\partial b^l_j} = \delta^l_j$
# 
# By definition, $\delta_j^l = \frac{\partial C}{\partial z_j^l}$.
# 
# Applying the chain rule, we can write this in terms of partial derivatives with respect to the biases of every neuron in layer $l$:
# 
# $$\delta_j^l = \sum_k \frac{\partial C}{\partial b_k^l} \frac{\partial b_k^l}{\partial z_j^l}$$.
# 
# Since $b_k^l$ depends only on $z_k^l$, all terms in this sum are null, except the one where $k = j$:
# 
# $$\delta_j^l = \frac{\partial C}{\partial b_j^l} \frac{\partial b_j^l}{\partial z_j^l}$$.
# 
# Now since $z^l_j = \sum_k w^l_{jk} a^{l-1}_k+b^l_j$, and therefore $b^l_j = z^l_j - \sum_k w^l_{jk} a^{l-1}_k$, we have $\frac{\partial b_j^l}{\partial z_j^l} = 1$.
# 
# This gives us **BP3**: 

# 
# $$\frac{\partial C}{\partial b^l_j} = \delta^l_j$$
# 
# * **BP4**: $\frac{\partial C}{\partial w^l_{jk}} = a^{l-1}_k \delta^l_j$
# 
# As previously, $w_{jk}^l$ only affects only $z_j^l$, so let's drop the sum right away and write the chain rule as:
# 
# $$\frac{\partial C}{\partial w_{jk}^l} = \frac{\partial C}{\partial z_j^l} \frac{\partial z_j^l}{\partial w_{jk}^l}$$
# 
# By definition, $\frac{\partial C}{\partial z_j^l}$ is $\delta_j^l$ and since $z^l_j = \sum_k w^l_{jk} a^{l-1}_k+b^l_j$, we have $\frac{\partial z_j^l}{\partial w_{jk}^l} = a_k^{l-1}$.
# 
# And so we have **BP4**:
# 
# $$\frac{\partial C}{\partial w^l_{jk}} = a^{l-1}_k \delta^l_j$$
